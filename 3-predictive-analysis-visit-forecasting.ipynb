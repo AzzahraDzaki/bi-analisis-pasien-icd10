{
 "cells": [
  {
   "cell_type": "markdown",
   "id": "50844fcc",
   "metadata": {},
   "source": [
    "This file implements a time-series forecasting model using Prophet to predict the number of patient visits. The project includes forecasting for both inpatient and outpatient services, as well as a performance evaluation for each model."
   ]
  },
  {
   "cell_type": "code",
   "execution_count": 1,
   "id": "3840e738",
   "metadata": {},
   "outputs": [],
   "source": [
    "import pandas as pd\n",
    "import numpy as np\n",
    "import matplotlib.pyplot as plt\n",
    "from prophet import Prophet\n",
    "from prophet.make_holidays import make_holidays_df\n",
    "from sklearn.metrics import mean_absolute_error, mean_squared_error, r2_score\n",
    "import itertools"
   ]
  },
  {
   "cell_type": "markdown",
   "id": "5a53b12b",
   "metadata": {},
   "source": [
    "Data Preparation"
   ]
  },
  {
   "cell_type": "code",
   "execution_count": null,
   "id": "e254b0b6",
   "metadata": {},
   "outputs": [],
   "source": [
    "# Inpatient Data: Preparation for Prophet model\n",
    "df_daily_inpatient = df_rawatinap.groupby('tanggal_admisi').agg(\n",
    "    visit_count=('rawat_inap_id', 'count')\n",
    ").reset_index().rename(columns={'tanggal_admisi': 'ds', 'visit_count': 'y'})\n",
    "\n",
    "# Outpatient Data: Preparation for Prophet model\n",
    "df_daily_outpatient = df_rawatjalan.groupby('tanggal_kunjungan').agg(\n",
    "    visit_count=('rawat_jalan_id', 'count')\n",
    ").reset_index().rename(columns={'tanggal_kunjungan': 'ds', 'visit_count': 'y'})\n",
    "\n",
    "# Add national holidays for both datasets\n",
    "years_inap = df_daily_inpatient['ds'].dt.year.unique().tolist()\n",
    "holidays_inap = make_holidays_df(year_list=years_inap, country='ID')\n",
    "\n",
    "years_jalan = df_daily_outpatient['ds'].dt.year.unique().tolist()\n",
    "holidays_jalan = make_holidays_df(year_list=years_jalan, country='ID')"
   ]
  },
  {
   "cell_type": "markdown",
   "id": "2a6bab4c",
   "metadata": {},
   "source": [
    "Forecasting Model Implementation (Inpatient)"
   ]
  },
  {
   "cell_type": "code",
   "execution_count": null,
   "id": "8f3b552f",
   "metadata": {},
   "outputs": [],
   "source": [
    "# Implement Prophet model for inpatient data\n",
    "model_inap = Prophet(holidays=holidays_inap)\n",
    "model_inap.fit(df_daily_inpatient)\n",
    "\n",
    "# Create future dataframe for prediction\n",
    "future_inap = model_inap.make_future_dataframe(periods=180)\n",
    "forecast_inap = model_inap.predict(future_inap)\n",
    "\n",
    "# --- Hyperparameter Optimization ---\n",
    "best_params_inap = {\n",
    "    'seasonality_mode': 'additive',\n",
    "    'changepoint_prior_scale': 0.5\n",
    "}\n",
    "best_model_inap = Prophet(holidays=holidays_inap, **best_params_inap)\n",
    "best_model_inap.fit(df_daily_inpatient)\n",
    "forecast_best_inap = best_model_inap.predict(future_inap)\n",
    "\n",
    "# --- Model Evaluation ---\n",
    "# Use MAE, RMSE, and R² to measure accuracy\n",
    "df_eval_filtered_inap = df_daily_inpatient.copy()\n",
    "df_eval_filtered_inap = df_eval_filtered_inap.merge(\n",
    "    forecast_best_inap[['ds', 'yhat']], on='ds', how='left'\n",
    ").dropna()\n",
    "\n",
    "mae_inap = mean_absolute_error(df_eval_filtered_inap['y'], df_eval_filtered_inap['yhat'])\n",
    "rmse_inap = mean_squared_error(df_eval_filtered_inap['y'], df_eval_filtered_inap['yhat'], squared=False)\n",
    "r2_inap = r2_score(df_eval_filtered_inap['y'], df_eval_filtered_inap['yhat'])\n",
    "mean_actual_inap = df_eval_filtered_inap['y'].mean()\n",
    "mae_pct_inap = mae_inap / mean_actual_inap * 100\n",
    "rmse_pct_inap = rmse_inap / mean_actual_inap * 100\n",
    "\n",
    "print(\"=== Inpatient Evaluation ===\")\n",
    "print(f\"MAE  : {mae_inap:.2f} ({mae_pct_inap:.2f}%)\")\n",
    "print(f\"RMSE : {rmse_inap:.2f} ({rmse_pct_inap:.2f}%)\")\n",
    "print(f\"R²   : {r2_inap:.4f}\")"
   ]
  },
  {
   "cell_type": "markdown",
   "id": "9aa9debb",
   "metadata": {},
   "source": [
    "Forecasting Model Implementation (Outpatient)"
   ]
  },
  {
   "cell_type": "code",
   "execution_count": null,
   "id": "ccb95074",
   "metadata": {},
   "outputs": [],
   "source": [
    "# Implement Prophet model for outpatient data\n",
    "model_jalan = Prophet(holidays=holidays_jalan)\n",
    "model_jalan.fit(df_daily_outpatient)\n",
    "\n",
    "# Create future dataframe for prediction\n",
    "future_jalan = model_jalan.make_future_dataframe(periods=360)\n",
    "forecast_jalan = model_jalan.predict(future_jalan)\n",
    "\n",
    "# --- Hyperparameter Optimization ---\n",
    "# Assumption: Best parameters have been found from the tuning process.\n",
    "best_params_jalan = {\n",
    "    'seasonality_mode': 'multiplicative',\n",
    "    'changepoint_prior_scale': 0.1\n",
    "}\n",
    "best_model_jalan = Prophet(holidays=holidays_jalan, **best_params_jalan)\n",
    "best_model_jalan.fit(df_daily_outpatient)\n",
    "forecast_best_jalan = best_model_jalan.predict(future_jalan)\n",
    "\n",
    "# --- Model Evaluation ---\n",
    "# Use MAE, RMSE, and R² to measure accuracy\n",
    "df_eval_filtered_jalan = df_daily_outpatient.copy()\n",
    "df_eval_filtered_jalan = df_eval_filtered_jalan.merge(\n",
    "    forecast_best_jalan[['ds', 'yhat']], on='ds', how='left'\n",
    ").dropna()\n",
    "\n",
    "mae_jalan = mean_absolute_error(df_eval_filtered_jalan['y'], df_eval_filtered_jalan['yhat'])\n",
    "rmse_jalan = mean_squared_error(df_eval_filtered_jalan['y'], df_eval_filtered_jalan['yhat'], squared=False)\n",
    "r2_jalan = r2_score(df_eval_filtered_jalan['y'], df_eval_filtered_jalan['yhat'])\n",
    "mean_actual_jalan = df_eval_filtered_jalan['y'].mean()\n",
    "mae_pct_jalan = mae_jalan / mean_actual_jalan * 100\n",
    "rmse_pct_jalan = rmse_jalan / mean_actual_jalan * 100\n",
    "\n",
    "print(\"\\n=== Outpatient Evaluation ===\")\n",
    "print(f\"MAE  : {mae_jalan:.2f} ({mae_pct_jalan:.2f}%)\")\n",
    "print(f\"RMSE : {rmse_jalan:.2f} ({rmse_pct_jalan:.2f}%)\")\n",
    "print(f\"R²   : {r2_jalan:.4f}\")"
   ]
  },
  {
   "cell_type": "markdown",
   "id": "f42b96d4",
   "metadata": {},
   "source": [
    "Visualization of Result"
   ]
  },
  {
   "cell_type": "code",
   "execution_count": null,
   "id": "ec8d7ebd",
   "metadata": {},
   "outputs": [],
   "source": [
    "# Visualize inpatient forecast results\n",
    "fig_inap = best_model_inap.plot(forecast_best_inap)\n",
    "plt.title(\"Inpatient Visit Forecast (Historical + Predicted)\")\n",
    "plt.xlabel(\"Month\")\n",
    "plt.ylabel(\"Number of Patients\")\n",
    "plt.show()\n",
    "\n",
    "# Visualize outpatient forecast results\n",
    "fig_jalan = best_model_jalan.plot(forecast_best_jalan)\n",
    "plt.title(\"Outpatient Visit Forecast (Historical + Predicted)\")\n",
    "plt.xlabel(\"Month\")\n",
    "plt.ylabel(\"Number of Visits\")\n",
    "plt.show()"
   ]
  }
 ],
 "metadata": {
  "kernelspec": {
   "display_name": "Python 3 (ipykernel)",
   "language": "python",
   "name": "python3"
  },
  "language_info": {
   "codemirror_mode": {
    "name": "ipython",
    "version": 3
   },
   "file_extension": ".py",
   "mimetype": "text/x-python",
   "name": "python",
   "nbconvert_exporter": "python",
   "pygments_lexer": "ipython3",
   "version": "3.10.10"
  }
 },
 "nbformat": 4,
 "nbformat_minor": 5
}
