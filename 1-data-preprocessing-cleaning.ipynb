{
 "cells": [
  {
   "cell_type": "markdown",
   "id": "4b2404e1",
   "metadata": {},
   "source": [
    "This file contains the preprocessing and cleaning steps for inpatient and outpatient patient data. The goal is to transform raw data from various sources into a consistent, clean format ready for further analysis."
   ]
  },
  {
   "cell_type": "code",
   "execution_count": 1,
   "id": "2271aee8",
   "metadata": {},
   "outputs": [],
   "source": [
    "import pandas as pd\n",
    "import numpy as np\n",
    "import os\n",
    "from glob import glob"
   ]
  },
  {
   "cell_type": "code",
   "execution_count": null,
   "id": "7e6198d0",
   "metadata": {},
   "outputs": [],
   "source": [
    "# --- IMPORTANT NOTE ---\n",
    "# Raw data files are not included in this repository due to patient privacy.\n",
    "# The code below only demonstrates the data loading pipeline.\n",
    "\n",
    "def load_data(file_paths):\n",
    "    \"\"\"Loads and combines data from a list of Excel files.\"\"\"\n",
    "    dataframes = [pd.read_excel(f, engine='openpyxl') for f in file_paths]\n",
    "    df_combined = pd.concat(dataframes, ignore_index=True)\n",
    "    return df_combined\n",
    "\n",
    "# Load inpatient patient data (2021-2024)\n",
    "base_path_inap = 'path/to/your/rawat_inap_folder' # Change to your absolute path\n",
    "files_inap = glob(os.path.join(base_path_inap, 'RwtInap*.xlsx'))\n",
    "df_rawatinap = load_data(files_inap)\n",
    "\n",
    "# Load outpatient patient data (2021-2023)\n",
    "base_path_jalan = 'path/to/your/rawat_jalan_folder' # Change to your absolute path\n",
    "files_jalan = glob(os.path.join(base_path_jalan, 'Rawat_jalan_*.xlsx'))\n",
    "df_rawatjalan = load_data(files_jalan)\n",
    "\n",
    "print(\"Inpatient data loaded with\", df_rawatinap.shape[0], \"rows.\")\n",
    "print(\"Outpatient data loaded with\", df_rawatjalan.shape[0], \"rows.\")"
   ]
  },
  {
   "cell_type": "code",
   "execution_count": null,
   "id": "9f1b3def",
   "metadata": {},
   "outputs": [],
   "source": [
    "# Rename columns for readability\n",
    "rename_inap = {\n",
    "    'Sex': 'gender', 'RM': 'rm_id', 'Tgl. Admisi': 'admission_date',\n",
    "    'Tgl. Keluar': 'discharge_date', 'TINDAKAN': 'procedure',\n",
    "    'Diagnosis Utama': 'main_diagnosis', 'ICD-10': 'icd_10',\n",
    "    'BAYAR': 'payment_method', 'DISPOSISI': 'disposition_status', 'LOS': 'los',\n",
    "    'Arti ICD': 'icd_desc', 'Umur': 'age', 'DOKTER': 'doctor'\n",
    "}\n",
    "df_rawatinap = df_rawatinap.rename(columns=rename_inap)\n",
    "\n",
    "# Drop irrelevant columns\n",
    "columns_to_drop_inap = [\n",
    "    'Urut', 'Klp Umur', 'Klp Umur.1', 'ICD 9', 'SEBAB LUAR', 'DTD', 'DTD+',\n",
    "    'Srvlc', 'KELURAHAN', 'KOTA/KAB', 'Tahun', 'Bulan', 'Hari'\n",
    "]\n",
    "df_rawatinap = df_rawatinap.drop(columns=columns_to_drop_inap, errors='ignore')\n",
    "\n",
    "# Standardize values and fill missing data\n",
    "df_rawatinap['gender'] = df_rawatinap['gender'].map({'L': 'Male', 'P': 'Female'})\n",
    "df_rawatinap['doctor'].fillna('Unknown Doctor', inplace=True)\n",
    "df_rawatinap['procedure'].fillna('No Procedure', inplace=True)\n",
    "\n",
    "# Create 'age_group' column\n",
    "def categorize_age(age):\n",
    "    if age < 1: return 'Baby'\n",
    "    elif age < 5: return 'Toddler'\n",
    "    elif age < 12: return 'Child'\n",
    "    elif age < 18: return 'Adolescent'\n",
    "    elif age < 60: return 'Adult'\n",
    "    else: return 'Elderly'\n",
    "df_rawatinap['age_group'] = df_rawatinap['age'].apply(categorize_age)\n",
    "df_rawatinap['patient_type'] = 'Inpatient'"
   ]
  },
  {
   "cell_type": "code",
   "execution_count": null,
   "id": "ce764d4e",
   "metadata": {},
   "outputs": [],
   "source": [
    "# Standardize column names\n",
    "rename_jalan = {\n",
    "    'TANGGAL': 'date', 'JK': 'gender', 'KODE x': 'code1',\n",
    "    'KODE TDK1': 'procedure1', 'NO MR': 'rm_id', 'CR BYR': 'payment_method',\n",
    "    'POLI': 'poly', 'DPJP': 'doctor'\n",
    "}\n",
    "df_rawatjalan = df_rawatjalan.rename(columns=rename_jalan, errors='ignore')\n",
    "\n",
    "# Drop irrelevant columns\n",
    "columns_to_drop_jalan = [\n",
    "    'NO', 'UMUR_TAHUN', 'Unnamed: 20', 'Unnamed: 21', 'Unnamed: 22',\n",
    "    'dokter2', 'BULAN', 'KODE GABUNG', 'TDK GABUNG'\n",
    "]\n",
    "df_rawatjalan = df_rawatjalan.drop(columns=columns_to_drop_jalan, errors='ignore')\n",
    "\n",
    "# Fill missing data\n",
    "kode_cols = ['code1', 'code2', 'code3', 'code4', 'code5', 'code6']\n",
    "procedure_cols = ['procedure1', 'procedure2', 'procedure3', 'procedure4', 'procedure5', 'procedure6']\n",
    "\n",
    "df_rawatjalan[kode_cols] = df_rawatjalan[kode_cols].fillna('No Diagnosis Code')\n",
    "df_rawatjalan[procedure_cols] = df_rawatjalan[procedure_cols].fillna('No Procedure')\n",
    "\n",
    "# Standardize gender values\n",
    "df_rawatjalan['gender'] = df_rawatjalan['gender'].map({'LK': 'Male', 'PR': 'Female'})\n",
    "df_rawatjalan['patient_type'] = 'Outpatient'"
   ]
  },
  {
   "cell_type": "code",
   "execution_count": null,
   "id": "9e932212",
   "metadata": {},
   "outputs": [],
   "source": [
    "# Displays the first 5 rows of the cleaned data.\n",
    "print(\"Clean Inpatient Data:\")\n",
    "print(df_rawatinap.head())\n",
    "\n",
    "print(\"\\nClean Outpatient Data:\")\n",
    "print(df_rawatjalan.head())\n",
    "\n",
    "# Saving clean dataframes for subsequent notebooks"
   ]
  }
 ],
 "metadata": {
  "kernelspec": {
   "display_name": "Python 3 (ipykernel)",
   "language": "python",
   "name": "python3"
  },
  "language_info": {
   "codemirror_mode": {
    "name": "ipython",
    "version": 3
   },
   "file_extension": ".py",
   "mimetype": "text/x-python",
   "name": "python",
   "nbconvert_exporter": "python",
   "pygments_lexer": "ipython3",
   "version": "3.10.10"
  }
 },
 "nbformat": 4,
 "nbformat_minor": 5
}
