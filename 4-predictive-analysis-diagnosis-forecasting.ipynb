{
 "cells": [
  {
   "cell_type": "markdown",
   "id": "cb5783b9",
   "metadata": {},
   "source": [
    "This file implements a time-series forecasting model using Prophet to predict trends and volumes for inpatient diagnoses. The project focuses on multi-series forecasting, where each primary diagnosis is predicted separately, and the results are then analyzed as a whole."
   ]
  },
  {
   "cell_type": "code",
   "execution_count": null,
   "id": "9db83f71",
   "metadata": {},
   "outputs": [],
   "source": [
    "import pandas as pd\n",
    "from prophet import Prophet\n",
    "from sklearn.metrics import mean_absolute_error, mean_squared_error, r2_score\n",
    "import itertools\n",
    "import matplotlib.pyplot as plt"
   ]
  },
  {
   "cell_type": "markdown",
   "id": "83b370ab",
   "metadata": {},
   "source": [
    "Data Preparation"
   ]
  },
  {
   "cell_type": "code",
   "execution_count": null,
   "id": "a45dcd0d",
   "metadata": {},
   "outputs": [],
   "source": [
    "# Prepare historical data for each diagnosis on a monthly basis\n",
    "df_rawatinap['tanggal_admisi'] = pd.to_datetime(df_rawatinap['tanggal_admisi'])\n",
    "df_rawatinap['bulan_admisi'] = df_rawatinap['tanggal_admisi'].dt.to_period('M').dt.to_timestamp()\n",
    "\n",
    "# Count the number of patients per diagnosis per month\n",
    "df_monthly_diagnoses = df_rawatinap.groupby(\n",
    "    ['bulan_admisi', 'icd_10', 'arti_icd']\n",
    ").size().reset_index(name='jumlah_pasien').rename(\n",
    "    columns={'bulan_admisi': 'ds', 'jumlah_pasien': 'y'}\n",
    ")\n",
    "\n",
    "# Filter for diagnoses that have at least 12 months of historical data\n",
    "icd_bulan_count = df_monthly_diagnoses.groupby('icd_10')['ds'].nunique()\n",
    "selected_icd = icd_bulan_count[icd_bulan_count >= 12].index\n",
    "df_monthly_diagnoses = df_monthly_diagnoses[df_monthly_diagnoses['icd_10'].isin(selected_icd)]"
   ]
  },
  {
   "cell_type": "markdown",
   "id": "6485623d",
   "metadata": {},
   "source": [
    "Forecasting Model Implementation (Per Diagnosis)"
   ]
  },
  {
   "cell_type": "code",
   "execution_count": null,
   "id": "e6e99190",
   "metadata": {},
   "outputs": [],
   "source": [
    "def run_diagnosis_forecast(df_input):\n",
    "    \"\"\"\n",
    "    Performs forecasting for each eligible diagnosis.\n",
    "    This function trains a Prophet model, predicts for the next 6 months,\n",
    "    and evaluates the model's performance.\n",
    "    \"\"\"\n",
    "    list_forecast = []\n",
    "    all_metrics = []\n",
    "\n",
    "    for icd_code in df_input['icd_10'].unique():\n",
    "        df_subset = df_input[df_input['icd_10'] == icd_code][['ds', 'y']]\n",
    "\n",
    "        model = Prophet()\n",
    "        model.fit(df_subset)\n",
    "        \n",
    "        future = model.make_future_dataframe(periods=6, freq='MS')\n",
    "        forecast = model.predict(future)\n",
    "        \n",
    "        # --- Model Evaluation ---\n",
    "        forecast_eval = forecast[['ds', 'yhat']].merge(df_subset, on='ds', how='left').dropna()\n",
    "        y_true = forecast_eval['y']\n",
    "        y_pred = forecast_eval['yhat']\n",
    "\n",
    "        mae = mean_absolute_error(y_true, y_pred)\n",
    "        rmse = mean_squared_error(y_true, y_pred, squared=False)\n",
    "        r2 = r2_score(y_true, y_pred)\n",
    "\n",
    "        all_metrics.append({'icd_10': icd_code, 'MAE': mae, 'RMSE': rmse, 'R2': r2})\n",
    "\n",
    "        # --- Store Results ---\n",
    "        forecast['icd_10'] = icd_code\n",
    "        forecast['arti_icd'] = df_input[df_input['icd_10'] == icd_code]['arti_icd'].iloc[0]\n",
    "        list_forecast.append(forecast[['ds', 'yhat', 'icd_10', 'arti_icd']])\n",
    "    \n",
    "    # Combine all forecast and evaluation results\n",
    "    df_forecast_all = pd.concat(list_forecast, ignore_index=True)\n",
    "    df_metrics = pd.DataFrame(all_metrics)\n",
    "\n",
    "    return df_forecast_all, df_metrics\n",
    "\n",
    "# Execute the forecasting function\n",
    "df_forecast, df_metrics = run_diagnosis_forecast(df_monthly_diagnoses)\n",
    "\n",
    "# Print average evaluation results\n",
    "print(\"=== Average Evaluation for All Diagnoses ===\")\n",
    "print(f\"Average MAE: {df_metrics['MAE'].mean():.2f}\")\n",
    "print(f\"Average RMSE: {df_metrics['RMSE'].mean():.2f}\")\n",
    "print(f\"Average R²: {df_metrics['R2'].mean():.4f}\")"
   ]
  },
  {
   "cell_type": "markdown",
   "id": "4986988b",
   "metadata": {},
   "source": [
    "Evaluation & Visualization"
   ]
  },
  {
   "cell_type": "code",
   "execution_count": null,
   "id": "993e8ec5",
   "metadata": {},
   "outputs": [],
   "source": [
    "# --- Display Top 5 Predicted Diagnoses ---\n",
    "# Filter predicted data for future months\n",
    "df_predicted = df_forecast[df_forecast['ds'] >= pd.to_datetime('2024-11-01')]\n",
    "df_top5_diagnoses = df_predicted.sort_values(by=['ds', 'yhat'], ascending=[True, False]).groupby('ds').head(5)\n",
    "\n",
    "print(\"\\nTop-5 Predicted Diagnoses per Month:\")\n",
    "print(df_top5_diagnoses.to_string(index=False))\n",
    "\n",
    "# --- Visualization ---\n",
    "# Find the model with the highest R-squared from all diagnoses\n",
    "best_model_icd = df_metrics.loc[df_metrics['R2'].idxmax()]\n",
    "best_icd_code = best_model_icd['icd_10']\n",
    "\n",
    "# Get the actual and forecasted data for the best diagnosis\n",
    "df_actual_best = df_monthly_diagnoses[df_monthly_diagnoses['icd_10'] == best_icd_code].copy()\n",
    "df_forecast_best = df_forecast[df_forecast['icd_10'] == best_icd_code].copy()\n",
    "\n",
    "# Visualize the forecast\n",
    "plt.style.use('seaborn-v0_8-whitegrid')\n",
    "fig, ax = plt.subplots(figsize=(12, 6))\n",
    "\n",
    "ax.plot(df_actual_best['ds'], df_actual_best['y'], label='Actual Data', color='blue', marker='o')\n",
    "ax.plot(df_forecast_best['ds'], df_forecast_best['yhat'], label='Prediction', color='orange', linestyle='--', marker='o')\n",
    "\n",
    "# Add a vertical line to mark the start of the prediction period\n",
    "ax.axvline(x=df_actual_best['ds'].max(), color='gray', linestyle='--', linewidth=2, label='Start of Prediction Period')\n",
    "\n",
    "ax.set_title(f'Diagnosis Forecast: {best_icd_code} (R²: {best_model_icd[\"R2\"]:.2f})', fontsize=16)\n",
    "ax.set_xlabel('Date', fontsize=12)\n",
    "ax.set_ylabel('Number of Patients', fontsize=12)\n",
    "ax.legend()\n",
    "plt.xticks(rotation=45, ha='right')\n",
    "plt.tight_layout()\n",
    "plt.show()"
   ]
  }
 ],
 "metadata": {
  "kernelspec": {
   "display_name": "Python 3 (ipykernel)",
   "language": "python",
   "name": "python3"
  },
  "language_info": {
   "codemirror_mode": {
    "name": "ipython",
    "version": 3
   },
   "file_extension": ".py",
   "mimetype": "text/x-python",
   "name": "python",
   "nbconvert_exporter": "python",
   "pygments_lexer": "ipython3",
   "version": "3.10.10"
  }
 },
 "nbformat": 4,
 "nbformat_minor": 5
}
